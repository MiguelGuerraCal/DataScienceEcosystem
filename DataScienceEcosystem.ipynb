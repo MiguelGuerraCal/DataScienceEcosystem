{
  "nbformat": 4,
  "nbformat_minor": 0,
  "metadata": {
    "colab": {
      "provenance": []
    },
    "kernelspec": {
      "name": "python3",
      "display_name": "Python 3"
    },
    "language_info": {
      "name": "python"
    }
  },
  "cells": [
    {
      "cell_type": "code",
      "execution_count": 2,
      "metadata": {
        "id": "qyPv49a-Pvqh"
      },
      "outputs": [],
      "source": []
    },
    {
      "cell_type": "markdown",
      "source": [
        "# Data Science Tools and Ecosystem\n"
      ],
      "metadata": {
        "id": "EQ3Te3BbQGuA"
      }
    },
    {
      "cell_type": "markdown",
      "source": [
        "En este notebook, se resumen las herramientas y el ecosistema de la Ciencia de Datos."
      ],
      "metadata": {
        "id": "nhktCQqHQvh-"
      }
    },
    {
      "cell_type": "markdown",
      "source": [
        "**Objetivos:**\n",
        "- Listar lenguajes populares para la Ciencia de Datos\n",
        "- Describir las herramientas de ciencia de datos\n",
        "- Ejemplos de operaciones aritméticas en Python\n"
      ],
      "metadata": {
        "id": "WxMa6cAwUDC4"
      }
    },
    {
      "cell_type": "markdown",
      "source": [
        "Algunos de los lenguajes populares que los Científicos de Datos usan son:\n",
        "1. Python\n",
        "2. R\n",
        "3. SQL"
      ],
      "metadata": {
        "id": "5ulOu_wMSCGQ"
      }
    },
    {
      "cell_type": "markdown",
      "source": [
        "Algunas bibliotecas comúnmente usadas en la Ciencia de Datos son:\n",
        "1. Pandas\n",
        "2. NumPy\n",
        "3. Matplotlib"
      ],
      "metadata": {
        "id": "hhxe7evASaaf"
      }
    },
    {
      "cell_type": "markdown",
      "source": [
        "| Herramientas de Ciencia de Datos |\n",
        "|----------------------------------|\n",
        "| Jupyter Notebook                 |\n",
        "| RStudio                          |\n",
        "| Apache Spark                     |\n"
      ],
      "metadata": {
        "id": "L4vzpoNcSuco"
      }
    },
    {
      "cell_type": "markdown",
      "source": [
        "### A continuación, algunos ejemplos de evaluación de expresiones aritméticas en Python."
      ],
      "metadata": {
        "id": "4Nf_1Cl1TCTy"
      }
    },
    {
      "cell_type": "code",
      "source": [
        "# Esta es una expresión aritmética simple para multiplicar y luego sumar números.\n",
        "(3 * 4) + 5\n"
      ],
      "metadata": {
        "colab": {
          "base_uri": "https://localhost:8080/"
        },
        "id": "Kl28JBQvTWZ1",
        "outputId": "cd122e59-ac3b-49b3-b923-f0b61b37906f"
      },
      "execution_count": 1,
      "outputs": [
        {
          "output_type": "execute_result",
          "data": {
            "text/plain": [
              "17"
            ]
          },
          "metadata": {},
          "execution_count": 1
        }
      ]
    },
    {
      "cell_type": "code",
      "source": [
        "# Esto convertirá 200 minutos a horas dividiendo por 60.\n",
        "200 / 60\n"
      ],
      "metadata": {
        "colab": {
          "base_uri": "https://localhost:8080/"
        },
        "id": "fYlVtllOTmCx",
        "outputId": "69dac908-bceb-4613-8f82-573237f48d76"
      },
      "execution_count": 2,
      "outputs": [
        {
          "output_type": "execute_result",
          "data": {
            "text/plain": [
              "3.3333333333333335"
            ]
          },
          "metadata": {},
          "execution_count": 2
        }
      ]
    },
    {
      "cell_type": "markdown",
      "source": [
        "## Autor\n",
        "Miguel Guerra\n"
      ],
      "metadata": {
        "id": "hLyljIlvUS9M"
      }
    }
  ]
}